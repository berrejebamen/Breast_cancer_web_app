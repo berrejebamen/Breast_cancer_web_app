{
 "cells": [
  {
   "cell_type": "markdown",
   "id": "2ef58373",
   "metadata": {},
   "source": [
    "# Load libraries"
   ]
  },
  {
   "cell_type": "code",
   "execution_count": 45,
   "id": "7bb267db",
   "metadata": {},
   "outputs": [],
   "source": [
    "import pickle\n",
    "from sklearn.ensemble import AdaBoostClassifier\n",
    "import numpy as np # linear algebra\n",
    "import pandas as pd # data processing, CSV file I/O (e.g. pd.read_csv)\n",
    "import math , time , random , datetime\n",
    "# keeps the plots in one place. calls image as static pngs\n",
    "%matplotlib inline \n",
    "import matplotlib.pyplot as plt # side-stepping mpl backend\n",
    "import matplotlib.gridspec as gridspec # subplots\n",
    "import mpld3 as mpl\n",
    "import missingno\n",
    "#Import models from scikit learn module:\n",
    "import sklearn.model_selection\n",
    "from sklearn.model_selection import cross_val_predict\n",
    "from sklearn.model_selection import train_test_split\n",
    "from sklearn.linear_model import LogisticRegression\n",
    "from sklearn.model_selection import KFold   #For K-fold cross validation\n",
    "from sklearn.ensemble import RandomForestClassifier\n",
    "from sklearn.tree import DecisionTreeClassifier, export_graphviz\n",
    "from sklearn import metrics\n",
    "from sklearn.ensemble import GradientBoostingClassifier\n",
    "from sklearn.neighbors import KNeighborsClassifier\n",
    "from sklearn.naive_bayes import GaussianNB\n",
    "from sklearn.linear_model import LinearRegression,LogisticRegression,SGDClassifier\n",
    "from sklearn.tree import DecisionTreeClassifier\n",
    "from catboost import CatBoostClassifier , Pool,cv\n",
    "from sklearn.svm import LinearSVC\n",
    "import warnings\n",
    "warnings.filterwarnings('ignore')"
   ]
  },
  {
   "cell_type": "code",
   "execution_count": 46,
   "id": "04ab41bf",
   "metadata": {},
   "outputs": [],
   "source": [
    "df = pd.read_csv(\"patient.csv\",header = 0)#header=0 , which means the first row of the CSV file will be treated as column names\n",
    "column_names = list(df.columns)\n",
    "df = df.rename(columns={'MCP.1': 'MCP_1'})\n"
   ]
  },
  {
   "cell_type": "code",
   "execution_count": 47,
   "id": "48d17c13",
   "metadata": {},
   "outputs": [
    {
     "data": {
      "text/html": [
       "<div>\n",
       "<style scoped>\n",
       "    .dataframe tbody tr th:only-of-type {\n",
       "        vertical-align: middle;\n",
       "    }\n",
       "\n",
       "    .dataframe tbody tr th {\n",
       "        vertical-align: top;\n",
       "    }\n",
       "\n",
       "    .dataframe thead th {\n",
       "        text-align: right;\n",
       "    }\n",
       "</style>\n",
       "<table border=\"1\" class=\"dataframe\">\n",
       "  <thead>\n",
       "    <tr style=\"text-align: right;\">\n",
       "      <th></th>\n",
       "      <th>Age</th>\n",
       "      <th>BMI</th>\n",
       "      <th>Glucose</th>\n",
       "      <th>Insulin</th>\n",
       "      <th>HOMA</th>\n",
       "      <th>Leptin</th>\n",
       "      <th>Adiponectin</th>\n",
       "      <th>Resistin</th>\n",
       "      <th>MCP_1</th>\n",
       "      <th>Classification</th>\n",
       "    </tr>\n",
       "  </thead>\n",
       "  <tbody>\n",
       "    <tr>\n",
       "      <th>0</th>\n",
       "      <td>48</td>\n",
       "      <td>23.500000</td>\n",
       "      <td>70</td>\n",
       "      <td>2.707</td>\n",
       "      <td>0.467409</td>\n",
       "      <td>8.8071</td>\n",
       "      <td>9.702400</td>\n",
       "      <td>7.99585</td>\n",
       "      <td>417.114</td>\n",
       "      <td>1</td>\n",
       "    </tr>\n",
       "    <tr>\n",
       "      <th>1</th>\n",
       "      <td>83</td>\n",
       "      <td>20.690495</td>\n",
       "      <td>92</td>\n",
       "      <td>3.115</td>\n",
       "      <td>0.706897</td>\n",
       "      <td>8.8438</td>\n",
       "      <td>5.429285</td>\n",
       "      <td>4.06405</td>\n",
       "      <td>468.786</td>\n",
       "      <td>1</td>\n",
       "    </tr>\n",
       "    <tr>\n",
       "      <th>2</th>\n",
       "      <td>82</td>\n",
       "      <td>23.124670</td>\n",
       "      <td>91</td>\n",
       "      <td>4.498</td>\n",
       "      <td>1.009651</td>\n",
       "      <td>17.9393</td>\n",
       "      <td>22.432040</td>\n",
       "      <td>9.27715</td>\n",
       "      <td>554.697</td>\n",
       "      <td>1</td>\n",
       "    </tr>\n",
       "    <tr>\n",
       "      <th>3</th>\n",
       "      <td>68</td>\n",
       "      <td>21.367521</td>\n",
       "      <td>77</td>\n",
       "      <td>3.226</td>\n",
       "      <td>0.612725</td>\n",
       "      <td>9.8827</td>\n",
       "      <td>7.169560</td>\n",
       "      <td>12.76600</td>\n",
       "      <td>928.220</td>\n",
       "      <td>1</td>\n",
       "    </tr>\n",
       "    <tr>\n",
       "      <th>4</th>\n",
       "      <td>86</td>\n",
       "      <td>21.111111</td>\n",
       "      <td>92</td>\n",
       "      <td>3.549</td>\n",
       "      <td>0.805386</td>\n",
       "      <td>6.6994</td>\n",
       "      <td>4.819240</td>\n",
       "      <td>10.57635</td>\n",
       "      <td>773.920</td>\n",
       "      <td>1</td>\n",
       "    </tr>\n",
       "  </tbody>\n",
       "</table>\n",
       "</div>"
      ],
      "text/plain": [
       "   Age        BMI  Glucose  Insulin      HOMA   Leptin  Adiponectin  Resistin  \\\n",
       "0   48  23.500000       70    2.707  0.467409   8.8071     9.702400   7.99585   \n",
       "1   83  20.690495       92    3.115  0.706897   8.8438     5.429285   4.06405   \n",
       "2   82  23.124670       91    4.498  1.009651  17.9393    22.432040   9.27715   \n",
       "3   68  21.367521       77    3.226  0.612725   9.8827     7.169560  12.76600   \n",
       "4   86  21.111111       92    3.549  0.805386   6.6994     4.819240  10.57635   \n",
       "\n",
       "     MCP_1  Classification  \n",
       "0  417.114               1  \n",
       "1  468.786               1  \n",
       "2  554.697               1  \n",
       "3  928.220               1  \n",
       "4  773.920               1  "
      ]
     },
     "execution_count": 47,
     "metadata": {},
     "output_type": "execute_result"
    }
   ],
   "source": [
    "df.head()\n"
   ]
  },
  {
   "cell_type": "code",
   "execution_count": 25,
   "id": "5d0ea7ba",
   "metadata": {},
   "outputs": [
    {
     "data": {
      "text/plain": [
       "116"
      ]
     },
     "execution_count": 25,
     "metadata": {},
     "output_type": "execute_result"
    }
   ],
   "source": [
    "# size of the dataframe\n",
    "len(df)\n"
   ]
  },
  {
   "cell_type": "code",
   "execution_count": 48,
   "id": "eee517f6",
   "metadata": {},
   "outputs": [
    {
     "data": {
      "text/html": [
       "<div>\n",
       "<style scoped>\n",
       "    .dataframe tbody tr th:only-of-type {\n",
       "        vertical-align: middle;\n",
       "    }\n",
       "\n",
       "    .dataframe tbody tr th {\n",
       "        vertical-align: top;\n",
       "    }\n",
       "\n",
       "    .dataframe thead th {\n",
       "        text-align: right;\n",
       "    }\n",
       "</style>\n",
       "<table border=\"1\" class=\"dataframe\">\n",
       "  <thead>\n",
       "    <tr style=\"text-align: right;\">\n",
       "      <th></th>\n",
       "      <th>Age</th>\n",
       "      <th>BMI</th>\n",
       "      <th>Glucose</th>\n",
       "      <th>Insulin</th>\n",
       "      <th>HOMA</th>\n",
       "      <th>Leptin</th>\n",
       "      <th>Adiponectin</th>\n",
       "      <th>Resistin</th>\n",
       "      <th>MCP_1</th>\n",
       "      <th>Classification</th>\n",
       "    </tr>\n",
       "  </thead>\n",
       "  <tbody>\n",
       "    <tr>\n",
       "      <th>111</th>\n",
       "      <td>45</td>\n",
       "      <td>26.85</td>\n",
       "      <td>92</td>\n",
       "      <td>3.33</td>\n",
       "      <td>0.755688</td>\n",
       "      <td>54.68</td>\n",
       "      <td>12.10</td>\n",
       "      <td>10.96</td>\n",
       "      <td>268.23</td>\n",
       "      <td>2</td>\n",
       "    </tr>\n",
       "    <tr>\n",
       "      <th>112</th>\n",
       "      <td>62</td>\n",
       "      <td>26.84</td>\n",
       "      <td>100</td>\n",
       "      <td>4.53</td>\n",
       "      <td>1.117400</td>\n",
       "      <td>12.45</td>\n",
       "      <td>21.42</td>\n",
       "      <td>7.32</td>\n",
       "      <td>330.16</td>\n",
       "      <td>2</td>\n",
       "    </tr>\n",
       "    <tr>\n",
       "      <th>113</th>\n",
       "      <td>65</td>\n",
       "      <td>32.05</td>\n",
       "      <td>97</td>\n",
       "      <td>5.73</td>\n",
       "      <td>1.370998</td>\n",
       "      <td>61.48</td>\n",
       "      <td>22.54</td>\n",
       "      <td>10.33</td>\n",
       "      <td>314.05</td>\n",
       "      <td>2</td>\n",
       "    </tr>\n",
       "    <tr>\n",
       "      <th>114</th>\n",
       "      <td>72</td>\n",
       "      <td>25.59</td>\n",
       "      <td>82</td>\n",
       "      <td>2.82</td>\n",
       "      <td>0.570392</td>\n",
       "      <td>24.96</td>\n",
       "      <td>33.75</td>\n",
       "      <td>3.27</td>\n",
       "      <td>392.46</td>\n",
       "      <td>2</td>\n",
       "    </tr>\n",
       "    <tr>\n",
       "      <th>115</th>\n",
       "      <td>86</td>\n",
       "      <td>27.18</td>\n",
       "      <td>138</td>\n",
       "      <td>19.91</td>\n",
       "      <td>6.777364</td>\n",
       "      <td>90.28</td>\n",
       "      <td>14.11</td>\n",
       "      <td>4.35</td>\n",
       "      <td>90.09</td>\n",
       "      <td>2</td>\n",
       "    </tr>\n",
       "  </tbody>\n",
       "</table>\n",
       "</div>"
      ],
      "text/plain": [
       "     Age    BMI  Glucose  Insulin      HOMA  Leptin  Adiponectin  Resistin  \\\n",
       "111   45  26.85       92     3.33  0.755688   54.68        12.10     10.96   \n",
       "112   62  26.84      100     4.53  1.117400   12.45        21.42      7.32   \n",
       "113   65  32.05       97     5.73  1.370998   61.48        22.54     10.33   \n",
       "114   72  25.59       82     2.82  0.570392   24.96        33.75      3.27   \n",
       "115   86  27.18      138    19.91  6.777364   90.28        14.11      4.35   \n",
       "\n",
       "      MCP_1  Classification  \n",
       "111  268.23               2  \n",
       "112  330.16               2  \n",
       "113  314.05               2  \n",
       "114  392.46               2  \n",
       "115   90.09               2  "
      ]
     },
     "execution_count": 48,
     "metadata": {},
     "output_type": "execute_result"
    }
   ],
   "source": [
    "df.tail()"
   ]
  },
  {
   "cell_type": "code",
   "execution_count": 49,
   "id": "c3d77268",
   "metadata": {},
   "outputs": [
    {
     "data": {
      "text/plain": [
       "array([1, 2], dtype=int64)"
      ]
     },
     "execution_count": 49,
     "metadata": {},
     "output_type": "execute_result"
    }
   ],
   "source": [
    "df.Classification.unique()"
   ]
  },
  {
   "cell_type": "markdown",
   "id": "15f95e8b",
   "metadata": {},
   "source": [
    "# Explore data\n"
   ]
  },
  {
   "cell_type": "code",
   "execution_count": 50,
   "id": "4cfde00b",
   "metadata": {},
   "outputs": [
    {
     "data": {
      "text/html": [
       "<div>\n",
       "<style scoped>\n",
       "    .dataframe tbody tr th:only-of-type {\n",
       "        vertical-align: middle;\n",
       "    }\n",
       "\n",
       "    .dataframe tbody tr th {\n",
       "        vertical-align: top;\n",
       "    }\n",
       "\n",
       "    .dataframe thead th {\n",
       "        text-align: right;\n",
       "    }\n",
       "</style>\n",
       "<table border=\"1\" class=\"dataframe\">\n",
       "  <thead>\n",
       "    <tr style=\"text-align: right;\">\n",
       "      <th></th>\n",
       "      <th>Age</th>\n",
       "      <th>BMI</th>\n",
       "      <th>Glucose</th>\n",
       "      <th>Insulin</th>\n",
       "      <th>HOMA</th>\n",
       "      <th>Leptin</th>\n",
       "      <th>Adiponectin</th>\n",
       "      <th>Resistin</th>\n",
       "      <th>MCP_1</th>\n",
       "      <th>Classification</th>\n",
       "    </tr>\n",
       "  </thead>\n",
       "  <tbody>\n",
       "    <tr>\n",
       "      <th>count</th>\n",
       "      <td>116.000000</td>\n",
       "      <td>116.000000</td>\n",
       "      <td>116.000000</td>\n",
       "      <td>116.000000</td>\n",
       "      <td>116.000000</td>\n",
       "      <td>116.000000</td>\n",
       "      <td>116.000000</td>\n",
       "      <td>116.000000</td>\n",
       "      <td>116.000000</td>\n",
       "      <td>116.000000</td>\n",
       "    </tr>\n",
       "    <tr>\n",
       "      <th>mean</th>\n",
       "      <td>57.301724</td>\n",
       "      <td>27.582111</td>\n",
       "      <td>97.793103</td>\n",
       "      <td>10.012086</td>\n",
       "      <td>2.694988</td>\n",
       "      <td>26.615080</td>\n",
       "      <td>10.180874</td>\n",
       "      <td>14.725966</td>\n",
       "      <td>534.647000</td>\n",
       "      <td>1.551724</td>\n",
       "    </tr>\n",
       "    <tr>\n",
       "      <th>std</th>\n",
       "      <td>16.112766</td>\n",
       "      <td>5.020136</td>\n",
       "      <td>22.525162</td>\n",
       "      <td>10.067768</td>\n",
       "      <td>3.642043</td>\n",
       "      <td>19.183294</td>\n",
       "      <td>6.843341</td>\n",
       "      <td>12.390646</td>\n",
       "      <td>345.912663</td>\n",
       "      <td>0.499475</td>\n",
       "    </tr>\n",
       "    <tr>\n",
       "      <th>min</th>\n",
       "      <td>24.000000</td>\n",
       "      <td>18.370000</td>\n",
       "      <td>60.000000</td>\n",
       "      <td>2.432000</td>\n",
       "      <td>0.467409</td>\n",
       "      <td>4.311000</td>\n",
       "      <td>1.656020</td>\n",
       "      <td>3.210000</td>\n",
       "      <td>45.843000</td>\n",
       "      <td>1.000000</td>\n",
       "    </tr>\n",
       "    <tr>\n",
       "      <th>25%</th>\n",
       "      <td>45.000000</td>\n",
       "      <td>22.973205</td>\n",
       "      <td>85.750000</td>\n",
       "      <td>4.359250</td>\n",
       "      <td>0.917966</td>\n",
       "      <td>12.313675</td>\n",
       "      <td>5.474283</td>\n",
       "      <td>6.881763</td>\n",
       "      <td>269.978250</td>\n",
       "      <td>1.000000</td>\n",
       "    </tr>\n",
       "    <tr>\n",
       "      <th>50%</th>\n",
       "      <td>56.000000</td>\n",
       "      <td>27.662416</td>\n",
       "      <td>92.000000</td>\n",
       "      <td>5.924500</td>\n",
       "      <td>1.380939</td>\n",
       "      <td>20.271000</td>\n",
       "      <td>8.352692</td>\n",
       "      <td>10.827740</td>\n",
       "      <td>471.322500</td>\n",
       "      <td>2.000000</td>\n",
       "    </tr>\n",
       "    <tr>\n",
       "      <th>75%</th>\n",
       "      <td>71.000000</td>\n",
       "      <td>31.241442</td>\n",
       "      <td>102.000000</td>\n",
       "      <td>11.189250</td>\n",
       "      <td>2.857787</td>\n",
       "      <td>37.378300</td>\n",
       "      <td>11.815970</td>\n",
       "      <td>17.755207</td>\n",
       "      <td>700.085000</td>\n",
       "      <td>2.000000</td>\n",
       "    </tr>\n",
       "    <tr>\n",
       "      <th>max</th>\n",
       "      <td>89.000000</td>\n",
       "      <td>38.578759</td>\n",
       "      <td>201.000000</td>\n",
       "      <td>58.460000</td>\n",
       "      <td>25.050342</td>\n",
       "      <td>90.280000</td>\n",
       "      <td>38.040000</td>\n",
       "      <td>82.100000</td>\n",
       "      <td>1698.440000</td>\n",
       "      <td>2.000000</td>\n",
       "    </tr>\n",
       "  </tbody>\n",
       "</table>\n",
       "</div>"
      ],
      "text/plain": [
       "              Age         BMI     Glucose     Insulin        HOMA      Leptin  \\\n",
       "count  116.000000  116.000000  116.000000  116.000000  116.000000  116.000000   \n",
       "mean    57.301724   27.582111   97.793103   10.012086    2.694988   26.615080   \n",
       "std     16.112766    5.020136   22.525162   10.067768    3.642043   19.183294   \n",
       "min     24.000000   18.370000   60.000000    2.432000    0.467409    4.311000   \n",
       "25%     45.000000   22.973205   85.750000    4.359250    0.917966   12.313675   \n",
       "50%     56.000000   27.662416   92.000000    5.924500    1.380939   20.271000   \n",
       "75%     71.000000   31.241442  102.000000   11.189250    2.857787   37.378300   \n",
       "max     89.000000   38.578759  201.000000   58.460000   25.050342   90.280000   \n",
       "\n",
       "       Adiponectin    Resistin        MCP_1  Classification  \n",
       "count   116.000000  116.000000   116.000000      116.000000  \n",
       "mean     10.180874   14.725966   534.647000        1.551724  \n",
       "std       6.843341   12.390646   345.912663        0.499475  \n",
       "min       1.656020    3.210000    45.843000        1.000000  \n",
       "25%       5.474283    6.881763   269.978250        1.000000  \n",
       "50%       8.352692   10.827740   471.322500        2.000000  \n",
       "75%      11.815970   17.755207   700.085000        2.000000  \n",
       "max      38.040000   82.100000  1698.440000        2.000000  "
      ]
     },
     "execution_count": 50,
     "metadata": {},
     "output_type": "execute_result"
    }
   ],
   "source": [
    "df.describe()"
   ]
  },
  {
   "cell_type": "code",
   "execution_count": 29,
   "id": "be9b2a83",
   "metadata": {
    "scrolled": true
   },
   "outputs": [
    {
     "data": {
      "image/png": "[encoded data removed]",
      "text/plain": [
       "<Figure size 432x288 with 1 Axes>"
      ]
     },
     "metadata": {
      "needs_background": "light"
     },
     "output_type": "display_data"
    }
   ],
   "source": [
    "df.describe()\n",
    "plt.hist(df['Classification'])\n",
    "plt.title('Classification (Patients=2 ,Healthy=1)')\n",
    "plt.show()"
   ]
  },
  {
   "cell_type": "code",
   "execution_count": 51,
   "id": "857ed024",
   "metadata": {},
   "outputs": [],
   "source": [
    "features_mean=list(df.columns[0:11])\n",
    "# split dataframe into two based on diagnosis\n",
    "dfM=df[df['Classification'] ==1]\n",
    "dfB=df[df['Classification'] ==2]"
   ]
  },
  {
   "cell_type": "code",
   "execution_count": 52,
   "id": "85525c05",
   "metadata": {
    "scrolled": true
   },
   "outputs": [
    {
     "data": {
      "image/png": "[encoded data removed]",
      "text/plain": [
       "<Figure size 576x720 with 10 Axes>"
      ]
     },
     "metadata": {
      "needs_background": "light"
     },
     "output_type": "display_data"
    }
   ],
   "source": [
    "#Stack the data\n",
    "plt.rcParams.update({'font.size': 8})\n",
    "fig, axes = plt.subplots(nrows=5, ncols=2, figsize=(8,10))\n",
    "axes = axes.ravel()\n",
    "for idx,ax in enumerate(axes):\n",
    "    ax.figure\n",
    "    binwidth= (max(df[features_mean[idx]]) - min(df[features_mean[idx]]))/50\n",
    "    ax.hist([dfM[features_mean[idx]],dfB[features_mean[idx]]], bins=np.arange(min(df[features_mean[idx]]), max(df[features_mean[idx]]) + binwidth, binwidth) , alpha=0.5,stacked=True,  label=['2','1'],color=['r','g'])\n",
    "    ax.legend(loc='upper right')\n",
    "    ax.set_title(features_mean[idx])\n",
    "\n",
    "plt.tight_layout()    \n",
    "plt.show()\n",
    "\n"
   ]
  },
  {
   "cell_type": "markdown",
   "id": "98c40c26",
   "metadata": {},
   "source": [
    "# plot graphics of missing data\n"
   ]
  },
  {
   "cell_type": "code",
   "execution_count": 53,
   "id": "9449472e",
   "metadata": {},
   "outputs": [
    {
     "data": {
      "text/plain": [
       "<AxesSubplot:>"
      ]
     },
     "execution_count": 53,
     "metadata": {},
     "output_type": "execute_result"
    },
    {
     "data": {
      "image/png": "[encoded data removed]",
      "text/plain": [
       "<Figure size 2160x360 with 2 Axes>"
      ]
     },
     "metadata": {
      "needs_background": "light"
     },
     "output_type": "display_data"
    }
   ],
   "source": [
    "missingno.matrix(df,figsize=(30,5))"
   ]
  },
  {
   "cell_type": "markdown",
   "id": "0455b65b",
   "metadata": {},
   "source": [
    "# creating a training set\n"
   ]
  },
  {
   "cell_type": "code",
   "execution_count": 54,
   "id": "070afc5f",
   "metadata": {},
   "outputs": [],
   "source": [
    "x_train=df.drop('Classification',axis=1)\n",
    "y_train=df.Classification"
   ]
  },
  {
   "cell_type": "markdown",
   "id": "299fc983",
   "metadata": {},
   "source": [
    "# model classification\n"
   ]
  },
  {
   "cell_type": "code",
   "execution_count": 55,
   "id": "20694366",
   "metadata": {},
   "outputs": [],
   "source": [
    "\n",
    "def fit_ml_algo(algo,x_train,y_train,cv):\n",
    "  #One Pass\n",
    "  model=algo.fit(x_train,y_train)\n",
    "  acc=round(model.score(x_train,y_train)*100,2)\n",
    "  #Cross Validation\n",
    "  train_pred=sklearn.model_selection.cross_val_predict(algo,x_train,y_train,cv=cv )\n",
    "  #Cross Validation accuarcy metric\n",
    "  acc_cv=round(metrics.accuracy_score(y_train,train_pred)*100,2)\n",
    "  return train_pred ,acc, acc_cv"
   ]
  },
  {
   "cell_type": "markdown",
   "id": "cae6cef7",
   "metadata": {},
   "source": [
    "# Logistic Regression model\n"
   ]
  },
  {
   "cell_type": "code",
   "execution_count": 56,
   "id": "99053f04",
   "metadata": {
    "scrolled": true
   },
   "outputs": [
    {
     "name": "stdout",
     "output_type": "stream",
     "text": [
      "Accuracy (percent) 78.45\n",
      "Accuracy for cross validation(percent) 64.66\n",
      "Runing Time 0:00:00.469248\n"
     ]
    }
   ],
   "source": [
    "#Logistic Regression\n",
    "start_time=time.time()\n",
    "train_pred_log,acc_log,acc_cv_log=fit_ml_algo(LogisticRegression(),x_train,y_train,10)\n",
    "log_time=time.time()-start_time\n",
    "print('Accuracy (percent)',acc_log)\n",
    "print('Accuracy for cross validation(percent)',acc_cv_log)\n",
    "print('Runing Time',datetime.timedelta(seconds=log_time))"
   ]
  },
  {
   "cell_type": "markdown",
   "id": "f0d6fd9e",
   "metadata": {},
   "source": [
    "# K_Nearst neighbors "
   ]
  },
  {
   "cell_type": "code",
   "execution_count": 57,
   "id": "86dd4f3f",
   "metadata": {
    "scrolled": false
   },
   "outputs": [
    {
     "name": "stdout",
     "output_type": "stream",
     "text": [
      "Accuracy (percent) 78.45\n",
      "Accuracy for cross validation(percent) 64.66\n",
      "Runing Time 0:00:00.093385\n"
     ]
    }
   ],
   "source": [
    "#knn\n",
    "start_time=time.time()\n",
    "train_pred_knn,acc_knn,acc_cv_knn=fit_ml_algo(KNeighborsClassifier(),x_train,y_train,10)\n",
    "log_time=time.time()-start_time\n",
    "print('Accuracy (percent)',acc_log)\n",
    "print('Accuracy for cross validation(percent)',acc_cv_log)\n",
    "print('Runing Time',datetime.timedelta(seconds=log_time))"
   ]
  },
  {
   "cell_type": "markdown",
   "id": "2d6cc6f0",
   "metadata": {},
   "source": [
    "# Linear support vector machines"
   ]
  },
  {
   "cell_type": "code",
   "execution_count": 58,
   "id": "8ade41f6",
   "metadata": {},
   "outputs": [
    {
     "name": "stdout",
     "output_type": "stream",
     "text": [
      "Accuracy (percent) 56.03\n",
      "Accuracy for cross validation(percent) 58.62\n",
      "Runing Time 0:00:00.169423\n"
     ]
    }
   ],
   "source": [
    "#LSVM\n",
    "start_time=time.time()\n",
    "train_pred_svc,acc_svc,acc_cv_svc=fit_ml_algo(LinearSVC(),x_train,y_train,10)\n",
    "log_time=time.time()-start_time\n",
    "print('Accuracy (percent)',acc_svc)\n",
    "print('Accuracy for cross validation(percent)',acc_cv_svc)\n",
    "print('Runing Time',datetime.timedelta(seconds=log_time))"
   ]
  },
  {
   "cell_type": "markdown",
   "id": "463a377e",
   "metadata": {},
   "source": [
    "# Random Forest Classifier\n"
   ]
  },
  {
   "cell_type": "code",
   "execution_count": 59,
   "id": "c15e2795",
   "metadata": {},
   "outputs": [
    {
     "name": "stdout",
     "output_type": "stream",
     "text": [
      "Accuracy (percent) 100.0\n",
      "Accuracy for cross validation(percent) 72.41\n",
      "Runing Time 0:00:02.802639\n"
     ]
    }
   ],
   "source": [
    "start_time=time.time()\n",
    "train_pred_dt,acc_dt,acc_cv_dt=fit_ml_algo(RandomForestClassifier(),x_train,y_train,10)\n",
    "log_time=time.time()-start_time\n",
    "print('Accuracy (percent)',acc_dt)\n",
    "print('Accuracy for cross validation(percent)',acc_cv_dt)\n",
    "print('Runing Time',datetime.timedelta(seconds=log_time))"
   ]
  },
  {
   "cell_type": "markdown",
   "id": "efbcb79f",
   "metadata": {},
   "source": [
    "# Gradient Boosting Trees\n"
   ]
  },
  {
   "cell_type": "code",
   "execution_count": 60,
   "id": "e645aa97",
   "metadata": {},
   "outputs": [
    {
     "name": "stdout",
     "output_type": "stream",
     "text": [
      "Accuracy (percent) 100.0\n",
      "Accuracy for cross validation(percent) 75.86\n",
      "Runing Time 0:00:01.350744\n"
     ]
    }
   ],
   "source": [
    "#GBtrees\n",
    "start_time=time.time()\n",
    "train_pred_gbt,acc_gbt,acc_cv_gbt=fit_ml_algo(GradientBoostingClassifier(),x_train,y_train,10)\n",
    "log_time=time.time()-start_time\n",
    "print('Accuracy (percent)',acc_dt)\n",
    "print('Accuracy for cross validation(percent)',acc_cv_gbt)\n",
    "print('Runing Time',datetime.timedelta(seconds=log_time))"
   ]
  },
  {
   "cell_type": "code",
   "execution_count": 61,
   "id": "d12705a9",
   "metadata": {},
   "outputs": [
    {
     "data": {
      "text/html": [
       "<div>\n",
       "<style scoped>\n",
       "    .dataframe tbody tr th:only-of-type {\n",
       "        vertical-align: middle;\n",
       "    }\n",
       "\n",
       "    .dataframe tbody tr th {\n",
       "        vertical-align: top;\n",
       "    }\n",
       "\n",
       "    .dataframe thead th {\n",
       "        text-align: right;\n",
       "    }\n",
       "</style>\n",
       "<table border=\"1\" class=\"dataframe\">\n",
       "  <thead>\n",
       "    <tr style=\"text-align: right;\">\n",
       "      <th></th>\n",
       "      <th>Model</th>\n",
       "      <th>Score</th>\n",
       "    </tr>\n",
       "  </thead>\n",
       "  <tbody>\n",
       "    <tr>\n",
       "      <th>3</th>\n",
       "      <td>Random forest</td>\n",
       "      <td>100.00</td>\n",
       "    </tr>\n",
       "    <tr>\n",
       "      <th>1</th>\n",
       "      <td>Logistic Regression</td>\n",
       "      <td>78.45</td>\n",
       "    </tr>\n",
       "    <tr>\n",
       "      <th>0</th>\n",
       "      <td>KNN</td>\n",
       "      <td>70.69</td>\n",
       "    </tr>\n",
       "    <tr>\n",
       "      <th>2</th>\n",
       "      <td>Linear svc</td>\n",
       "      <td>56.03</td>\n",
       "    </tr>\n",
       "  </tbody>\n",
       "</table>\n",
       "</div>"
      ],
      "text/plain": [
       "                  Model   Score\n",
       "3        Random forest   100.00\n",
       "1  Logistic Regression    78.45\n",
       "0                   KNN   70.69\n",
       "2           Linear svc    56.03"
      ]
     },
     "execution_count": 61,
     "metadata": {},
     "output_type": "execute_result"
    }
   ],
   "source": [
    "models=pd.DataFrame({\n",
    "    'Model':['KNN','Logistic Regression ', 'Linear svc ','Random forest '],\n",
    "    'Score':[acc_knn,acc_log, acc_svc,acc_dt]\n",
    "})\n",
    "models.sort_values(by='Score',ascending=False)\n",
    "     "
   ]
  },
  {
   "cell_type": "code",
   "execution_count": 41,
   "id": "e30b508f",
   "metadata": {},
   "outputs": [
    {
     "data": {
      "text/html": [
       "<div>\n",
       "<style scoped>\n",
       "    .dataframe tbody tr th:only-of-type {\n",
       "        vertical-align: middle;\n",
       "    }\n",
       "\n",
       "    .dataframe tbody tr th {\n",
       "        vertical-align: top;\n",
       "    }\n",
       "\n",
       "    .dataframe thead th {\n",
       "        text-align: right;\n",
       "    }\n",
       "</style>\n",
       "<table border=\"1\" class=\"dataframe\">\n",
       "  <thead>\n",
       "    <tr style=\"text-align: right;\">\n",
       "      <th></th>\n",
       "      <th>Model</th>\n",
       "      <th>Score</th>\n",
       "    </tr>\n",
       "  </thead>\n",
       "  <tbody>\n",
       "    <tr>\n",
       "      <th>3</th>\n",
       "      <td>Random forest</td>\n",
       "      <td>75.86</td>\n",
       "    </tr>\n",
       "    <tr>\n",
       "      <th>1</th>\n",
       "      <td>Logistic Regression</td>\n",
       "      <td>64.66</td>\n",
       "    </tr>\n",
       "    <tr>\n",
       "      <th>2</th>\n",
       "      <td>Linear svc</td>\n",
       "      <td>50.00</td>\n",
       "    </tr>\n",
       "    <tr>\n",
       "      <th>0</th>\n",
       "      <td>KNN</td>\n",
       "      <td>47.41</td>\n",
       "    </tr>\n",
       "  </tbody>\n",
       "</table>\n",
       "</div>"
      ],
      "text/plain": [
       "                  Model  Score\n",
       "3         Random forest  75.86\n",
       "1  Logistic Regression   64.66\n",
       "2           Linear svc   50.00\n",
       "0                   KNN  47.41"
      ]
     },
     "execution_count": 41,
     "metadata": {},
     "output_type": "execute_result"
    }
   ],
   "source": [
    "models=pd.DataFrame({\n",
    "    'Model':['KNN','Logistic Regression ', 'Linear svc ','Random forest'],\n",
    "    'Score':[acc_cv_knn,acc_cv_log, acc_cv_svc,acc_cv_dt]\n",
    "})\n",
    "models.sort_values(by='Score',ascending=False)"
   ]
  },
  {
   "cell_type": "markdown",
   "id": "8a83ebcb",
   "metadata": {},
   "source": [
    "# Feature selection\n"
   ]
  },
  {
   "cell_type": "code",
   "execution_count": 62,
   "id": "0d6d5b25",
   "metadata": {},
   "outputs": [],
   "source": [
    "\n",
    "from sklearn.feature_selection import SelectKBest, f_regression\n",
    "\n",
    "k = 5  # number of top features to select\n",
    "selector = SelectKBest(f_regression, k=k)\n",
    "selector.fit(x_train, y_train)\n",
    "\n",
    "# Get the indices of the selected features\n",
    "top_k_indices = selector.get_support(indices=True)\n",
    "\n",
    "# Get the names of the top k features\n",
    "top_k_features = list(x_train.columns[top_k_indices])\n",
    "\n"
   ]
  },
  {
   "cell_type": "code",
   "execution_count": 63,
   "id": "87deeaaf",
   "metadata": {},
   "outputs": [
    {
     "name": "stdout",
     "output_type": "stream",
     "text": [
      "['BMI', 'Glucose', 'Insulin', 'HOMA', 'Resistin']\n"
     ]
    }
   ],
   "source": [
    "print(top_k_features)"
   ]
  },
  {
   "cell_type": "code",
   "execution_count": 64,
   "id": "13cd3a1f",
   "metadata": {},
   "outputs": [],
   "source": [
    "selector=LogisticRegression()\n",
    "selector.fit(x_train,y_train)\n",
    "with open('model6.pkl', 'wb') as f:\n",
    "    pickle.dump(selector, f)"
   ]
  },
  {
   "cell_type": "code",
   "execution_count": null,
   "id": "fadcd0f2",
   "metadata": {},
   "outputs": [],
   "source": []
  },
  {
   "cell_type": "code",
   "execution_count": null,
   "id": "0042d742",
   "metadata": {},
   "outputs": [],
   "source": []
  }
 ],
 "metadata": {
  "kernelspec": {
   "display_name": "Python 3 (ipykernel)",
   "language": "python",
   "name": "python3"
  },
  "language_info": {
   "codemirror_mode": {
    "name": "ipython",
    "version": 3
   },
   "file_extension": ".py",
   "mimetype": "text/x-python",
   "name": "python",
   "nbconvert_exporter": "python",
   "pygments_lexer": "ipython3",
   "version": "3.9.12"
  }
 },
 "nbformat": 4,
 "nbformat_minor": 5
}
